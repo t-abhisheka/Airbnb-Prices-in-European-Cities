{
 "cells": [
  {
   "cell_type": "code",
   "execution_count": 52,
   "metadata": {},
   "outputs": [
    {
     "data": {
      "text/plain": [
       "' import seaborn as sns\\nimport numpy as np\\nfrom sklearn.model_selection import train_test_split\\nfrom sklearn.metrics import mean_squared_error, r2_score '"
      ]
     },
     "execution_count": 52,
     "metadata": {},
     "output_type": "execute_result"
    }
   ],
   "source": [
    "import pandas as pd\n",
    "import matplotlib.pyplot as plt\n",
    "from sklearn.linear_model import LinearRegression\n",
    "import pickle\n",
    "\n",
    "\"\"\" import seaborn as sns\n",
    "import numpy as np\n",
    "from sklearn.model_selection import train_test_split\n",
    "from sklearn.metrics import mean_squared_error, r2_score \"\"\""
   ]
  },
  {
   "cell_type": "markdown",
   "metadata": {},
   "source": [
    "# data preperation "
   ]
  },
  {
   "cell_type": "code",
   "execution_count": 53,
   "metadata": {},
   "outputs": [],
   "source": [
    "amsterdam_weekdays = pd.read_csv('data/weekdays/amsterdam_weekdays.csv')\n",
    "amsterdam_weekdays['city'] = 'amsterdam'\n",
    "amsterdam_weekdays['time'] = 'weekdays'\n",
    "\n",
    "athens_weekdays = pd.read_csv('data/weekdays/athens_weekdays.csv')\n",
    "athens_weekdays['city'] = 'athens'\n",
    "athens_weekdays['time'] = 'weekdays'\n",
    "\n",
    "barcelona_weekdays = pd.read_csv('data/weekdays/barcelona_weekdays.csv')\n",
    "barcelona_weekdays['city'] = 'barcelona'\n",
    "barcelona_weekdays['time'] = 'weekdays'\n",
    "\n",
    "berlin_weekdays = pd.read_csv('data/weekdays/berlin_weekdays.csv')\n",
    "berlin_weekdays['city'] = 'berlin'\n",
    "berlin_weekdays['time'] = 'weekdays'\n",
    "\n",
    "budapest_weekdays = pd.read_csv('data/weekdays/budapest_weekdays.csv')\n",
    "budapest_weekdays['city'] = 'budapest'\n",
    "budapest_weekdays['time'] = 'weekdays'\n",
    "\n",
    "lisbon_weekdays = pd.read_csv('data/weekdays/lisbon_weekdays.csv')\n",
    "lisbon_weekdays['city'] = 'lisbon'\n",
    "lisbon_weekdays['time'] = 'weekdays'\n",
    "\n",
    "london_weekdays = pd.read_csv('data/weekdays/london_weekdays.csv')\n",
    "london_weekdays['city'] = 'london'\n",
    "london_weekdays['time'] = 'weekdays'\n",
    "\n",
    "paris_weekdays = pd.read_csv('data/weekdays/paris_weekdays.csv')\n",
    "paris_weekdays['city'] = 'paris'\n",
    "paris_weekdays['time'] = 'weekdays'\n",
    "\n",
    "rome_weekdays = pd.read_csv('data/weekdays/rome_weekdays.csv')\n",
    "rome_weekdays['city'] = 'rome'\n",
    "rome_weekdays['time'] = 'weekdays'\n",
    "\n",
    "vienna_weekdays = pd.read_csv('data/weekdays/vienna_weekdays.csv')\n",
    "vienna_weekdays['city'] = 'vienna'\n",
    "vienna_weekdays['time'] = 'weekdays'"
   ]
  },
  {
   "cell_type": "code",
   "execution_count": 54,
   "metadata": {},
   "outputs": [],
   "source": [
    "amsterdam_weekends = pd.read_csv('data/weekends/amsterdam_weekends.csv')\n",
    "amsterdam_weekends['city'] = 'amsterdam'\n",
    "amsterdam_weekends['time'] = 'weekends'\n",
    "\n",
    "athens_weekends = pd.read_csv('data/weekends/athens_weekends.csv')\n",
    "athens_weekends['city'] = 'athens'\n",
    "athens_weekends['time'] = 'weekends'\n",
    "\n",
    "barcelona_weekends = pd.read_csv('data/weekends/barcelona_weekends.csv')\n",
    "barcelona_weekends['city'] = 'barcelona'\n",
    "barcelona_weekends['time'] = 'weekends'\n",
    "\n",
    "berlin_weekends = pd.read_csv('data/weekends/berlin_weekends.csv')\n",
    "berlin_weekends['city'] = 'berlin'\n",
    "berlin_weekends['time'] = 'weekends'\n",
    "\n",
    "budapest_weekends = pd.read_csv('data/weekends/budapest_weekends.csv')\n",
    "budapest_weekends['city'] = 'budapest'\n",
    "budapest_weekends['time'] = 'weekends'\n",
    "\n",
    "lisbon_weekends = pd.read_csv('data/weekends/lisbon_weekends.csv')\n",
    "lisbon_weekends['city'] = 'lisbon'\n",
    "lisbon_weekends['time'] = 'weekends'\n",
    "\n",
    "london_weekends = pd.read_csv('data/weekends/london_weekends.csv')\n",
    "london_weekends['city'] = 'london'\n",
    "london_weekends['time'] = 'weekends'\n",
    "\n",
    "paris_weekends = pd.read_csv('data/weekends/paris_weekends.csv')\n",
    "paris_weekends['city'] = 'paris'\n",
    "paris_weekends['time'] = 'weekends'\n",
    "\n",
    "rome_weekends = pd.read_csv('data/weekends/rome_weekends.csv')\n",
    "rome_weekends['city'] = 'rome'\n",
    "rome_weekends['time'] = 'weekends'\n",
    "\n",
    "vienna_weekends = pd.read_csv('data/weekends/vienna_weekends.csv')\n",
    "vienna_weekends['city'] = 'vienna'\n",
    "vienna_weekends['time'] = 'weekends'"
   ]
  },
  {
   "cell_type": "code",
   "execution_count": 55,
   "metadata": {},
   "outputs": [],
   "source": [
    "datasets = [amsterdam_weekdays,\n",
    "            athens_weekdays,\n",
    "            barcelona_weekdays,\n",
    "            berlin_weekdays,\n",
    "            budapest_weekdays,\n",
    "            lisbon_weekdays,\n",
    "            london_weekdays,\n",
    "            paris_weekdays,\n",
    "            rome_weekdays,\n",
    "            vienna_weekdays,\n",
    "            amsterdam_weekends,\n",
    "            athens_weekends,\n",
    "            barcelona_weekends,\n",
    "            berlin_weekends,\n",
    "            budapest_weekends,\n",
    "            lisbon_weekends,\n",
    "            london_weekends,\n",
    "            paris_weekends,\n",
    "            rome_weekends,\n",
    "            vienna_weekends]\n",
    "\n",
    "airbnb = pd.concat(datasets)"
   ]
  },
  {
   "cell_type": "code",
   "execution_count": 56,
   "metadata": {},
   "outputs": [
    {
     "data": {
      "text/html": [
       "<div>\n",
       "<style scoped>\n",
       "    .dataframe tbody tr th:only-of-type {\n",
       "        vertical-align: middle;\n",
       "    }\n",
       "\n",
       "    .dataframe tbody tr th {\n",
       "        vertical-align: top;\n",
       "    }\n",
       "\n",
       "    .dataframe thead th {\n",
       "        text-align: right;\n",
       "    }\n",
       "</style>\n",
       "<table border=\"1\" class=\"dataframe\">\n",
       "  <thead>\n",
       "    <tr style=\"text-align: right;\">\n",
       "      <th></th>\n",
       "      <th>Unnamed: 0</th>\n",
       "      <th>realSum</th>\n",
       "      <th>room_type</th>\n",
       "      <th>room_shared</th>\n",
       "      <th>room_private</th>\n",
       "      <th>person_capacity</th>\n",
       "      <th>host_is_superhost</th>\n",
       "      <th>multi</th>\n",
       "      <th>biz</th>\n",
       "      <th>cleanliness_rating</th>\n",
       "      <th>...</th>\n",
       "      <th>dist</th>\n",
       "      <th>metro_dist</th>\n",
       "      <th>attr_index</th>\n",
       "      <th>attr_index_norm</th>\n",
       "      <th>rest_index</th>\n",
       "      <th>rest_index_norm</th>\n",
       "      <th>lng</th>\n",
       "      <th>lat</th>\n",
       "      <th>city</th>\n",
       "      <th>time</th>\n",
       "    </tr>\n",
       "  </thead>\n",
       "  <tbody>\n",
       "    <tr>\n",
       "      <th>0</th>\n",
       "      <td>0</td>\n",
       "      <td>194.033698</td>\n",
       "      <td>Private room</td>\n",
       "      <td>False</td>\n",
       "      <td>True</td>\n",
       "      <td>2.0</td>\n",
       "      <td>False</td>\n",
       "      <td>1</td>\n",
       "      <td>0</td>\n",
       "      <td>10.0</td>\n",
       "      <td>...</td>\n",
       "      <td>5.022964</td>\n",
       "      <td>2.539380</td>\n",
       "      <td>78.690379</td>\n",
       "      <td>4.166708</td>\n",
       "      <td>98.253896</td>\n",
       "      <td>6.846473</td>\n",
       "      <td>4.90569</td>\n",
       "      <td>52.41772</td>\n",
       "      <td>amsterdam</td>\n",
       "      <td>weekdays</td>\n",
       "    </tr>\n",
       "    <tr>\n",
       "      <th>1</th>\n",
       "      <td>1</td>\n",
       "      <td>344.245776</td>\n",
       "      <td>Private room</td>\n",
       "      <td>False</td>\n",
       "      <td>True</td>\n",
       "      <td>4.0</td>\n",
       "      <td>False</td>\n",
       "      <td>0</td>\n",
       "      <td>0</td>\n",
       "      <td>8.0</td>\n",
       "      <td>...</td>\n",
       "      <td>0.488389</td>\n",
       "      <td>0.239404</td>\n",
       "      <td>631.176378</td>\n",
       "      <td>33.421209</td>\n",
       "      <td>837.280757</td>\n",
       "      <td>58.342928</td>\n",
       "      <td>4.90005</td>\n",
       "      <td>52.37432</td>\n",
       "      <td>amsterdam</td>\n",
       "      <td>weekdays</td>\n",
       "    </tr>\n",
       "    <tr>\n",
       "      <th>2</th>\n",
       "      <td>2</td>\n",
       "      <td>264.101422</td>\n",
       "      <td>Private room</td>\n",
       "      <td>False</td>\n",
       "      <td>True</td>\n",
       "      <td>2.0</td>\n",
       "      <td>False</td>\n",
       "      <td>0</td>\n",
       "      <td>1</td>\n",
       "      <td>9.0</td>\n",
       "      <td>...</td>\n",
       "      <td>5.748312</td>\n",
       "      <td>3.651621</td>\n",
       "      <td>75.275877</td>\n",
       "      <td>3.985908</td>\n",
       "      <td>95.386955</td>\n",
       "      <td>6.646700</td>\n",
       "      <td>4.97512</td>\n",
       "      <td>52.36103</td>\n",
       "      <td>amsterdam</td>\n",
       "      <td>weekdays</td>\n",
       "    </tr>\n",
       "    <tr>\n",
       "      <th>3</th>\n",
       "      <td>3</td>\n",
       "      <td>433.529398</td>\n",
       "      <td>Private room</td>\n",
       "      <td>False</td>\n",
       "      <td>True</td>\n",
       "      <td>4.0</td>\n",
       "      <td>False</td>\n",
       "      <td>0</td>\n",
       "      <td>1</td>\n",
       "      <td>9.0</td>\n",
       "      <td>...</td>\n",
       "      <td>0.384862</td>\n",
       "      <td>0.439876</td>\n",
       "      <td>493.272534</td>\n",
       "      <td>26.119108</td>\n",
       "      <td>875.033098</td>\n",
       "      <td>60.973565</td>\n",
       "      <td>4.89417</td>\n",
       "      <td>52.37663</td>\n",
       "      <td>amsterdam</td>\n",
       "      <td>weekdays</td>\n",
       "    </tr>\n",
       "    <tr>\n",
       "      <th>4</th>\n",
       "      <td>4</td>\n",
       "      <td>485.552926</td>\n",
       "      <td>Private room</td>\n",
       "      <td>False</td>\n",
       "      <td>True</td>\n",
       "      <td>2.0</td>\n",
       "      <td>True</td>\n",
       "      <td>0</td>\n",
       "      <td>0</td>\n",
       "      <td>10.0</td>\n",
       "      <td>...</td>\n",
       "      <td>0.544738</td>\n",
       "      <td>0.318693</td>\n",
       "      <td>552.830324</td>\n",
       "      <td>29.272733</td>\n",
       "      <td>815.305740</td>\n",
       "      <td>56.811677</td>\n",
       "      <td>4.90051</td>\n",
       "      <td>52.37508</td>\n",
       "      <td>amsterdam</td>\n",
       "      <td>weekdays</td>\n",
       "    </tr>\n",
       "  </tbody>\n",
       "</table>\n",
       "<p>5 rows × 22 columns</p>\n",
       "</div>"
      ],
      "text/plain": [
       "   Unnamed: 0     realSum     room_type  room_shared  room_private  \\\n",
       "0           0  194.033698  Private room        False          True   \n",
       "1           1  344.245776  Private room        False          True   \n",
       "2           2  264.101422  Private room        False          True   \n",
       "3           3  433.529398  Private room        False          True   \n",
       "4           4  485.552926  Private room        False          True   \n",
       "\n",
       "   person_capacity  host_is_superhost  multi  biz  cleanliness_rating  ...  \\\n",
       "0              2.0              False      1    0                10.0  ...   \n",
       "1              4.0              False      0    0                 8.0  ...   \n",
       "2              2.0              False      0    1                 9.0  ...   \n",
       "3              4.0              False      0    1                 9.0  ...   \n",
       "4              2.0               True      0    0                10.0  ...   \n",
       "\n",
       "       dist  metro_dist  attr_index  attr_index_norm  rest_index  \\\n",
       "0  5.022964    2.539380   78.690379         4.166708   98.253896   \n",
       "1  0.488389    0.239404  631.176378        33.421209  837.280757   \n",
       "2  5.748312    3.651621   75.275877         3.985908   95.386955   \n",
       "3  0.384862    0.439876  493.272534        26.119108  875.033098   \n",
       "4  0.544738    0.318693  552.830324        29.272733  815.305740   \n",
       "\n",
       "   rest_index_norm      lng       lat       city      time  \n",
       "0         6.846473  4.90569  52.41772  amsterdam  weekdays  \n",
       "1        58.342928  4.90005  52.37432  amsterdam  weekdays  \n",
       "2         6.646700  4.97512  52.36103  amsterdam  weekdays  \n",
       "3        60.973565  4.89417  52.37663  amsterdam  weekdays  \n",
       "4        56.811677  4.90051  52.37508  amsterdam  weekdays  \n",
       "\n",
       "[5 rows x 22 columns]"
      ]
     },
     "execution_count": 56,
     "metadata": {},
     "output_type": "execute_result"
    }
   ],
   "source": [
    "airbnb.head()"
   ]
  },
  {
   "cell_type": "code",
   "execution_count": 57,
   "metadata": {},
   "outputs": [
    {
     "data": {
      "text/plain": [
       "Unnamed: 0                    0\n",
       "realSum                       0\n",
       "room_type                     0\n",
       "room_shared                   0\n",
       "room_private                  0\n",
       "person_capacity               0\n",
       "host_is_superhost             0\n",
       "multi                         0\n",
       "biz                           0\n",
       "cleanliness_rating            0\n",
       "guest_satisfaction_overall    0\n",
       "bedrooms                      0\n",
       "dist                          0\n",
       "metro_dist                    0\n",
       "attr_index                    0\n",
       "attr_index_norm               0\n",
       "rest_index                    0\n",
       "rest_index_norm               0\n",
       "lng                           0\n",
       "lat                           0\n",
       "city                          0\n",
       "time                          0\n",
       "dtype: int64"
      ]
     },
     "execution_count": 57,
     "metadata": {},
     "output_type": "execute_result"
    }
   ],
   "source": [
    "airbnb.isna().sum()"
   ]
  },
  {
   "cell_type": "code",
   "execution_count": 58,
   "metadata": {},
   "outputs": [
    {
     "data": {
      "text/plain": [
       "0"
      ]
     },
     "execution_count": 58,
     "metadata": {},
     "output_type": "execute_result"
    }
   ],
   "source": [
    "airbnb.duplicated().sum()"
   ]
  },
  {
   "cell_type": "code",
   "execution_count": 59,
   "metadata": {},
   "outputs": [
    {
     "data": {
      "text/plain": [
       "array(['Private room', 'Entire home/apt', 'Shared room'], dtype=object)"
      ]
     },
     "execution_count": 59,
     "metadata": {},
     "output_type": "execute_result"
    }
   ],
   "source": [
    "airbnb['room_type'].unique()"
   ]
  },
  {
   "cell_type": "code",
   "execution_count": 60,
   "metadata": {},
   "outputs": [],
   "source": [
    "airbnb.drop('Unnamed: 0', axis=1, inplace=True)\n",
    "airbnb.drop('room_private', axis=1, inplace=True)"
   ]
  },
  {
   "cell_type": "code",
   "execution_count": 61,
   "metadata": {},
   "outputs": [],
   "source": [
    "def bool_to_int(value):\n",
    "    if value == True:\n",
    "        return 1\n",
    "    else:\n",
    "        return 0\n",
    "\n",
    "def change_values(value):\n",
    "    if value == \"Entire home/apt\":\n",
    "        return \"entire_home_apt\"\n",
    "    elif value == \"Private room\":\n",
    "        return \"private_room\"\n",
    "    elif value == \"Shared room\":\n",
    "        return \"shared_room\""
   ]
  },
  {
   "cell_type": "code",
   "execution_count": 62,
   "metadata": {},
   "outputs": [],
   "source": [
    "airbnb['room_shared'] = airbnb['room_shared'].apply(bool_to_int)\n",
    "airbnb['host_is_superhost'] = airbnb['host_is_superhost'].apply(bool_to_int)\n",
    "airbnb['room_type'] = airbnb['room_type'].apply(change_values)"
   ]
  },
  {
   "cell_type": "code",
   "execution_count": 63,
   "metadata": {},
   "outputs": [],
   "source": [
    "airbnb.to_csv('cleaned_airbnb_dataset.csv', index=False)"
   ]
  },
  {
   "cell_type": "code",
   "execution_count": 64,
   "metadata": {},
   "outputs": [],
   "source": [
    "room_type = pd.get_dummies(airbnb['room_type'], prefix='room_type', drop_first=True)\n",
    "airbnb = pd.concat([airbnb,room_type], axis=1)\n",
    "airbnb.drop('room_type', axis=1, inplace= True)"
   ]
  },
  {
   "cell_type": "code",
   "execution_count": 65,
   "metadata": {},
   "outputs": [],
   "source": [
    "city = pd.get_dummies(airbnb['city'], prefix='city', drop_first=True)\n",
    "airbnb = pd.concat([airbnb, city], axis= 1)\n",
    "airbnb.drop('city', axis=1, inplace= True)"
   ]
  },
  {
   "cell_type": "code",
   "execution_count": 66,
   "metadata": {},
   "outputs": [],
   "source": [
    "time = pd.get_dummies(airbnb['time'], prefix = 'time', drop_first=True)\n",
    "airbnb = pd.concat([airbnb,time], axis = 1)\n",
    "airbnb.drop('time', axis = 1, inplace = True)"
   ]
  },
  {
   "cell_type": "code",
   "execution_count": 67,
   "metadata": {},
   "outputs": [
    {
     "name": "stdout",
     "output_type": "stream",
     "text": [
      "<class 'pandas.core.frame.DataFrame'>\n",
      "Int64Index: 51707 entries, 0 to 1798\n",
      "Data columns (total 29 columns):\n",
      " #   Column                      Non-Null Count  Dtype  \n",
      "---  ------                      --------------  -----  \n",
      " 0   realSum                     51707 non-null  float64\n",
      " 1   room_shared                 51707 non-null  int64  \n",
      " 2   person_capacity             51707 non-null  float64\n",
      " 3   host_is_superhost           51707 non-null  int64  \n",
      " 4   multi                       51707 non-null  int64  \n",
      " 5   biz                         51707 non-null  int64  \n",
      " 6   cleanliness_rating          51707 non-null  float64\n",
      " 7   guest_satisfaction_overall  51707 non-null  float64\n",
      " 8   bedrooms                    51707 non-null  int64  \n",
      " 9   dist                        51707 non-null  float64\n",
      " 10  metro_dist                  51707 non-null  float64\n",
      " 11  attr_index                  51707 non-null  float64\n",
      " 12  attr_index_norm             51707 non-null  float64\n",
      " 13  rest_index                  51707 non-null  float64\n",
      " 14  rest_index_norm             51707 non-null  float64\n",
      " 15  lng                         51707 non-null  float64\n",
      " 16  lat                         51707 non-null  float64\n",
      " 17  room_type_private_room      51707 non-null  uint8  \n",
      " 18  room_type_shared_room       51707 non-null  uint8  \n",
      " 19  city_athens                 51707 non-null  uint8  \n",
      " 20  city_barcelona              51707 non-null  uint8  \n",
      " 21  city_berlin                 51707 non-null  uint8  \n",
      " 22  city_budapest               51707 non-null  uint8  \n",
      " 23  city_lisbon                 51707 non-null  uint8  \n",
      " 24  city_london                 51707 non-null  uint8  \n",
      " 25  city_paris                  51707 non-null  uint8  \n",
      " 26  city_rome                   51707 non-null  uint8  \n",
      " 27  city_vienna                 51707 non-null  uint8  \n",
      " 28  time_weekends               51707 non-null  uint8  \n",
      "dtypes: float64(12), int64(5), uint8(12)\n",
      "memory usage: 7.7 MB\n"
     ]
    }
   ],
   "source": [
    "airbnb.info()"
   ]
  },
  {
   "cell_type": "markdown",
   "metadata": {},
   "source": [
    "# data model"
   ]
  },
  {
   "cell_type": "code",
   "execution_count": 68,
   "metadata": {},
   "outputs": [],
   "source": [
    "model = LinearRegression()"
   ]
  },
  {
   "cell_type": "code",
   "execution_count": 69,
   "metadata": {},
   "outputs": [],
   "source": [
    "y = airbnb.realSum\n",
    "X = airbnb.drop('realSum', axis = 1)"
   ]
  },
  {
   "cell_type": "code",
   "execution_count": 70,
   "metadata": {},
   "outputs": [
    {
     "name": "stdout",
     "output_type": "stream",
     "text": [
      "<class 'pandas.core.frame.DataFrame'>\n",
      "Int64Index: 51707 entries, 0 to 1798\n",
      "Data columns (total 28 columns):\n",
      " #   Column                      Non-Null Count  Dtype  \n",
      "---  ------                      --------------  -----  \n",
      " 0   room_shared                 51707 non-null  int64  \n",
      " 1   person_capacity             51707 non-null  float64\n",
      " 2   host_is_superhost           51707 non-null  int64  \n",
      " 3   multi                       51707 non-null  int64  \n",
      " 4   biz                         51707 non-null  int64  \n",
      " 5   cleanliness_rating          51707 non-null  float64\n",
      " 6   guest_satisfaction_overall  51707 non-null  float64\n",
      " 7   bedrooms                    51707 non-null  int64  \n",
      " 8   dist                        51707 non-null  float64\n",
      " 9   metro_dist                  51707 non-null  float64\n",
      " 10  attr_index                  51707 non-null  float64\n",
      " 11  attr_index_norm             51707 non-null  float64\n",
      " 12  rest_index                  51707 non-null  float64\n",
      " 13  rest_index_norm             51707 non-null  float64\n",
      " 14  lng                         51707 non-null  float64\n",
      " 15  lat                         51707 non-null  float64\n",
      " 16  room_type_private_room      51707 non-null  uint8  \n",
      " 17  room_type_shared_room       51707 non-null  uint8  \n",
      " 18  city_athens                 51707 non-null  uint8  \n",
      " 19  city_barcelona              51707 non-null  uint8  \n",
      " 20  city_berlin                 51707 non-null  uint8  \n",
      " 21  city_budapest               51707 non-null  uint8  \n",
      " 22  city_lisbon                 51707 non-null  uint8  \n",
      " 23  city_london                 51707 non-null  uint8  \n",
      " 24  city_paris                  51707 non-null  uint8  \n",
      " 25  city_rome                   51707 non-null  uint8  \n",
      " 26  city_vienna                 51707 non-null  uint8  \n",
      " 27  time_weekends               51707 non-null  uint8  \n",
      "dtypes: float64(11), int64(5), uint8(12)\n",
      "memory usage: 7.3 MB\n"
     ]
    }
   ],
   "source": [
    "X.info()"
   ]
  },
  {
   "cell_type": "code",
   "execution_count": 71,
   "metadata": {},
   "outputs": [],
   "source": [
    "model_res = model.fit(X,y)"
   ]
  },
  {
   "cell_type": "code",
   "execution_count": 72,
   "metadata": {},
   "outputs": [
    {
     "data": {
      "text/plain": [
       "0.24395954630714234"
      ]
     },
     "execution_count": 72,
     "metadata": {},
     "output_type": "execute_result"
    }
   ],
   "source": [
    "model.score(X,y)"
   ]
  },
  {
   "cell_type": "code",
   "execution_count": 73,
   "metadata": {},
   "outputs": [
    {
     "data": {
      "image/png": "[encoded data removed]",
      "text/plain": [
       "<Figure size 800x600 with 1 Axes>"
      ]
     },
     "metadata": {},
     "output_type": "display_data"
    }
   ],
   "source": [
    "y_pred = model.predict(X)\n",
    "\n",
    "plt.figure(figsize=(8, 6))\n",
    "plt.scatter(y, y_pred, alpha = 0.5)\n",
    "\n",
    "plt.xlabel('True Values')\n",
    "plt.ylabel('Predicted Values')\n",
    "plt.title('True Values vs. Predicted Values')\n",
    "\n",
    "plt.plot([min(y), max(y)], [min(y), max(y)], linestyle='-', color='red', linewidth=1)\n",
    "\n",
    "plt.show()"
   ]
  },
  {
   "cell_type": "markdown",
   "metadata": {},
   "source": [
    "# save model"
   ]
  },
  {
   "cell_type": "code",
   "execution_count": 74,
   "metadata": {},
   "outputs": [],
   "source": [
    "filename = 'airbnb_price_pred_model.sav'\n",
    "pickle.dump(model, open(filename, 'wb'))"
   ]
  },
  {
   "cell_type": "code",
   "execution_count": 75,
   "metadata": {},
   "outputs": [
    {
     "name": "stdout",
     "output_type": "stream",
     "text": [
      "0.24395954630714234\n"
     ]
    }
   ],
   "source": [
    "loaded_model = pickle.load(open(filename, 'rb'))\n",
    "result = loaded_model.score(X, y)\n",
    "print(result)"
   ]
  },
  {
   "cell_type": "code",
   "execution_count": 76,
   "metadata": {},
   "outputs": [],
   "source": [
    "# Save to file in the current working directory\n",
    "pkl_filename = \"model.pkl\"\n",
    "with open(pkl_filename, 'wb') as file:\n",
    "    pickle.dump(model, file)\n",
    "\n",
    "# Load from file\n",
    "with open(pkl_filename, 'rb') as file:\n",
    "    pickle_model = pickle.load(file)"
   ]
  },
  {
   "cell_type": "code",
   "execution_count": 81,
   "metadata": {},
   "outputs": [
    {
     "name": "stdout",
     "output_type": "stream",
     "text": [
      "[412.93269767]\n"
     ]
    },
    {
     "name": "stderr",
     "output_type": "stream",
     "text": [
      "/Users/thilinaabhisheka/anaconda3/lib/python3.10/site-packages/sklearn/base.py:420: UserWarning: X does not have valid feature names, but LinearRegression was fitted with feature names\n",
      "  warnings.warn(\n"
     ]
    }
   ],
   "source": [
    "t = [[0, 2.5 , 0, 1, 0, 10.0, 93.0, 1, 5.022963798088291, 2.539380002594493, 78.69037927190317, 4.166707868490748, 98.25389587009934, 6.846472824200016, 4.90569, 52.41772, 1, 0, 0, 0, 0, 0, 0, 0, 0, 0, 0, 0]]\n",
    "testvalue = model.predict(t)\n",
    "print(testvalue)"
   ]
  },
  {
   "cell_type": "code",
   "execution_count": 84,
   "metadata": {},
   "outputs": [
    {
     "name": "stdout",
     "output_type": "stream",
     "text": [
      "[412.93269767]\n"
     ]
    }
   ],
   "source": [
    "\n",
    "\n",
    "data_df = pd.DataFrame([{\n",
    "    \"room_shared\" : 0,\n",
    "    \"person_capacity\" : 2.5,\n",
    "    \"host_is_superhost\" : 0,\n",
    "    \"multi\" : 1,\n",
    "    \"biz\" : 0,\n",
    "    \"cleanliness_rating\" : 10.0,\n",
    "    \"guest_satisfaction_overall\" : 93.0,\n",
    "    \"bedrooms\" : 1,\n",
    "    \"dist\": 5.022963798088291,\n",
    "    \"metro_dist\": 2.539380002594493,\n",
    "    \"attr_index\": 78.69037927190317,\n",
    "    \"attr_index_norm\": 4.166707868490748,\n",
    "    \"rest_index\": 98.25389587009934,\n",
    "    \"rest_index_norm\": 6.846472824200016,\n",
    "    \"lng\": 4.90569,\n",
    "    \"lat\": 52.41772,\n",
    "    \"room_type_private_room\" : 1,\n",
    "    \"room_type_shared_room\" : 0,\n",
    "    \"city_athens\" : 0,\n",
    "    \"city_barcelona\" : 0,\n",
    "    \"city_berlin\" : 0,\n",
    "    \"city_budapest\" : 0,\n",
    "    \"city_lisbon\" : 0,\n",
    "    \"city_london\" : 0,\n",
    "    \"city_paris\" : 0,\n",
    "    \"city_rome\" : 0,\n",
    "    \"city_vienna\" : 0,\n",
    "    \"time_weekends\" : 0}])\n",
    "testvalue = model.predict(data_df)\n",
    "print(testvalue)\n",
    "\n",
    "\n"
   ]
  }
 ],
 "metadata": {
  "kernelspec": {
   "display_name": "base",
   "language": "python",
   "name": "python3"
  },
  "language_info": {
   "codemirror_mode": {
    "name": "ipython",
    "version": 3
   },
   "file_extension": ".py",
   "mimetype": "text/x-python",
   "name": "python",
   "nbconvert_exporter": "python",
   "pygments_lexer": "ipython3",
   "version": "3.10.9"
  },
  "orig_nbformat": 4
 },
 "nbformat": 4,
 "nbformat_minor": 2
}
